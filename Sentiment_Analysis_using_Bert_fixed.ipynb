{
  "cells": [
    {
      "cell_type": "code",
      "execution_count": null,
      "id": "3vVe4s2BWsBr",
      "metadata": {
        "colab": {
          "base_uri": "https://localhost:8080/",
          "height": 1000,
          "referenced_widgets": [
            "5cf1ac707db24b259bffdb249c680de3",
            "c856912727734336aa9dada2893e8bfb",
            "3e05ce5286994457aa40a7d6b026521f",
            "d896b90c1e13478b87974e59125811e8",
            "b9c5109d92ab46af94da2fde2b348f2e",
            "5ca5327580dc4b7197c94c57eb4afc10",
            "034f5033758447eab2370380e759c522",
            "87807ddd3a4b461f8d7ca38562bbe2a0",
            "7e14902f357447daa0fb9cc2c0d35f5c",
            "a5b15ae3b39f4aa19c945db282494040",
            "cd0e7d1e8ef14df69257ab9bbf23d2f6",
            "06eb60072ba140e58f570c4ba96b0485",
            "40012828924f4088903db25444927fc0",
            "3e02975e52b34690a7deb5af6a41202e",
            "5ec7149112f841668df95807f8c589e2",
            "3e2de116e7684a86a76d4f6cc953ff06",
            "a10703ff7f764398b2f4b6d56dd9ee75",
            "bcda6346aa1e4145bc7f2485d3645f5c",
            "c74a944aaa4b42159c9c0b3dbc4b8dbe",
            "5f97e8c2875143d4a786832f49d68844",
            "728a9aaa2ff4425ab20aaf7732832732",
            "2fe405b4f7184df78c11882a328fb110",
            "9b83c93279f04647bdabe14e43bd26ca",
            "0b148c11ed374d6a9a144f02860b8782",
            "1443f785c5184852bfe67d94db587182",
            "e8cb2ca6140d44a6b294bc2a70c0b9eb",
            "73d06c1093304d98b4b338fa46e2abab",
            "ae23d570d46c47dcba22078e52820821",
            "c30df66c30614412a145dee62c3db68b",
            "dab8cc1a625141faab672614506958d0",
            "b4890917ee8e46c6bc89685d9e1abf95",
            "33246b5bf2d24438a0ad95bd1feb3c0e",
            "21c6ed54b10f4b70b3a6385cb1f95730",
            "b815580f28434270862cb95d081c90c9",
            "5e521d5ac362469282e073ed144359f0",
            "ec2e1691d40e4b56bcf375174970a782",
            "94060823b0be4871b5b042ab87da73d8",
            "6a5ba078c6de4172b43c8fa5c8e99dac",
            "4f5e212c490f47399a13690984be6196",
            "81621c124b5c4d7da756a1ef4f1d3e12",
            "7f2c07b3d9414c37976789f48c26e857",
            "8a0482ad95ab4e08875501860f868319",
            "10d8ac3b2b5546768def4d79fa231b22",
            "ab6449d27b214afba7e268e4eda24e84",
            "9e1b6fb098f24608851df155c787f0cd",
            "2ab33aa6e46a4b72b6c79908b6e45fec",
            "2d5bb01ea370438c8735ba29d6da34cc",
            "0b9f5aec25d544a9a9d2e4e29155d769",
            "8b5da00a537041aabe0a67678b91a1ed",
            "ba9338c7b57647ec9341699afdabe5d9",
            "a0b79c629d44415d80570092e6bea630",
            "eaee0fe6f5d94d92bb2fc5e945ccd751",
            "9fafede139f84c63a468c87c50705306",
            "e096836b4aab492a99ed620dae6f0ca7",
            "94859948da044cd0b6ded45d968819d8",
            "424daa6b53c94427893ff7616256a37d",
            "22a70a619935406aa80b5c60cdc9e637",
            "b587298165a74d66a7104693cf25c512",
            "f68cf9a467574a0e89683ec4c4965124",
            "a1840a9dd39743ddaeea4b5adbe976e5",
            "2e9bf67d8da049a583a9d383e5c91d72",
            "572c9c1d746641649f5b316988c19e0f",
            "3c20bee893564cd495c0d5a3003a7f56",
            "838e1ab6959d479992f2f4925db3386f",
            "5d543046e62349e68f889644a3c95405",
            "84afc4794e40492fb321978b4781db39",
            "735b837e3bc24869aa504d0cf9fbbaf7",
            "0af91690a6824bd4af37de1c5e1d686a",
            "091526ff737d44c396f29ccf4ac07731",
            "12baff43d4474ecea8e8eb727c4d83ea",
            "9a27266245674f49aa954b149f6b58a8",
            "ef678143bd544077b39a1634f7e137d1",
            "d77e9f416c54424195cf27a275882403",
            "ecd7eecfb74d4a989397279b293c2a16",
            "ee316a3d9c904c9aa3cdac6ffb892ad7",
            "e57c29b59dfc4cb9a207a8ac58742030",
            "0134342941994119bc3d7f887eef752f",
            "0bc0ad28122142968359adc9be9d7d85",
            "af436a371a1949c88e32c4e62b18d7da",
            "10506cb9dc15415783df4474680eac5c",
            "f9a969df504d4eb2b26ec1544bf91216",
            "565eb19840e94891a5898b07a5c07a96",
            "806fe32dbb6d449b87ec9d73dba4b219",
            "aa8ef639386d476d9a1387771509c92e",
            "abd4e8f9e419488f839c895bca68470c",
            "f3a2d7d1fcbf43df94f184a125b24013",
            "d675059fb82c43169e37bd7be672d1e6",
            "9980db08b59540b49e8a73f376e0dd12",
            "f6322c2daf8d440194c06c314e3eaa29",
            "fc220ec17d634c7bad3fe3959bf99e45",
            "d27e1cb98699489aa7998bf68f2f6748",
            "1c4a72a74f194a169e2f4750c12d15dd",
            "660e1e22d7164e0c874eee4fc4eb8266",
            "9dbfe8ca7e264b58b2bc38264cc70665",
            "a0494adb7b344c18956d17d341f8e8b8",
            "fab35e4023294016b0877e272c634225",
            "8841007df3e24cf6bcfe8e2be278f82d",
            "2ad45fe10567438d95d558ff12e7cffc",
            "bce5c1799b9e45888d771b10c955f688"
          ]
        },
        "id": "3vVe4s2BWsBr",
        "outputId": "dd470ff4-ce58-40e3-b0b0-3e2aed4d4348"
      },
      "outputs": [
        {
          "name": "stdout",
          "output_type": "stream",
          "text": [
            "Using: cuda\n"
          ]
        },
        {
          "name": "stderr",
          "output_type": "stream",
          "text": [
            "/tmp/ipython-input-3271669777.py:42: FutureWarning: Downcasting behavior in `replace` is deprecated and will be removed in a future version. To retain the old behavior, explicitly call `result.infer_objects(copy=False)`. To opt-in to the future behavior, set `pd.set_option('future.no_silent_downcasting', True)`\n",
            "  df['label'] = df.category.replace(label_dict)\n",
            "Some weights of BertForSequenceClassification were not initialized from the model checkpoint at bert-base-uncased and are newly initialized: ['classifier.bias', 'classifier.weight']\n",
            "You should probably TRAIN this model on a down-stream task to be able to use it for predictions and inference.\n",
            "/tmp/ipython-input-3271669777.py:149: FutureWarning: `torch.cuda.amp.GradScaler(args...)` is deprecated. Please use `torch.amp.GradScaler('cuda', args...)` instead.\n",
            "  scaler = GradScaler()\n"
          ]
        },
        {
          "data": {
            "application/vnd.jupyter.widget-view+json": {
              "model_id": "5cf1ac707db24b259bffdb249c680de3",
              "version_major": 2,
              "version_minor": 0
            },
            "text/plain": [
              "Epoch 1:   0%|          | 0/78 [00:00<?, ?it/s]"
            ]
          },
          "metadata": {},
          "output_type": "display_data"
        },
        {
          "name": "stderr",
          "output_type": "stream",
          "text": [
            "/tmp/ipython-input-3271669777.py:166: FutureWarning: `torch.cuda.amp.autocast(args...)` is deprecated. Please use `torch.amp.autocast('cuda', args...)` instead.\n",
            "  with autocast():\n"
          ]
        },
        {
          "name": "stdout",
          "output_type": "stream",
          "text": [
            "\n",
            "Epoch 1 Summary:\n",
            "Train Loss=1.1969, Train Acc=0.5860\n",
            "Val F1=0.6785, Val Acc=0.7763\n",
            "\u2705 New best model saved!\n"
          ]
        },
        {
          "data": {
            "application/vnd.jupyter.widget-view+json": {
              "model_id": "06eb60072ba140e58f570c4ba96b0485",
              "version_major": 2,
              "version_minor": 0
            },
            "text/plain": [
              "Epoch 2:   0%|          | 0/78 [00:00<?, ?it/s]"
            ]
          },
          "metadata": {},
          "output_type": "display_data"
        },
        {
          "name": "stderr",
          "output_type": "stream",
          "text": [
            "/tmp/ipython-input-3271669777.py:166: FutureWarning: `torch.cuda.amp.autocast(args...)` is deprecated. Please use `torch.amp.autocast('cuda', args...)` instead.\n",
            "  with autocast():\n"
          ]
        },
        {
          "name": "stdout",
          "output_type": "stream",
          "text": [
            "\n",
            "Epoch 2 Summary:\n",
            "Train Loss=0.5732, Train Acc=0.8200\n",
            "Val F1=0.7841, Val Acc=0.8265\n",
            "\u2705 New best model saved!\n"
          ]
        },
        {
          "data": {
            "application/vnd.jupyter.widget-view+json": {
              "model_id": "9b83c93279f04647bdabe14e43bd26ca",
              "version_major": 2,
              "version_minor": 0
            },
            "text/plain": [
              "Epoch 3:   0%|          | 0/78 [00:00<?, ?it/s]"
            ]
          },
          "metadata": {},
          "output_type": "display_data"
        },
        {
          "name": "stderr",
          "output_type": "stream",
          "text": [
            "/tmp/ipython-input-3271669777.py:166: FutureWarning: `torch.cuda.amp.autocast(args...)` is deprecated. Please use `torch.amp.autocast('cuda', args...)` instead.\n",
            "  with autocast():\n"
          ]
        },
        {
          "name": "stdout",
          "output_type": "stream",
          "text": [
            "\n",
            "Epoch 3 Summary:\n",
            "Train Loss=0.4051, Train Acc=0.8789\n",
            "Val F1=0.8696, Val Acc=0.8858\n",
            "\u2705 New best model saved!\n"
          ]
        },
        {
          "data": {
            "application/vnd.jupyter.widget-view+json": {
              "model_id": "b815580f28434270862cb95d081c90c9",
              "version_major": 2,
              "version_minor": 0
            },
            "text/plain": [
              "Epoch 4:   0%|          | 0/78 [00:00<?, ?it/s]"
            ]
          },
          "metadata": {},
          "output_type": "display_data"
        },
        {
          "name": "stderr",
          "output_type": "stream",
          "text": [
            "/tmp/ipython-input-3271669777.py:166: FutureWarning: `torch.cuda.amp.autocast(args...)` is deprecated. Please use `torch.amp.autocast('cuda', args...)` instead.\n",
            "  with autocast():\n"
          ]
        },
        {
          "name": "stdout",
          "output_type": "stream",
          "text": [
            "\n",
            "Epoch 4 Summary:\n",
            "Train Loss=0.2990, Train Acc=0.9144\n",
            "Val F1=0.8514, Val Acc=0.8721\n",
            "No improvement (1/3)\n"
          ]
        },
        {
          "data": {
            "application/vnd.jupyter.widget-view+json": {
              "model_id": "9e1b6fb098f24608851df155c787f0cd",
              "version_major": 2,
              "version_minor": 0
            },
            "text/plain": [
              "Epoch 5:   0%|          | 0/78 [00:00<?, ?it/s]"
            ]
          },
          "metadata": {},
          "output_type": "display_data"
        },
        {
          "name": "stderr",
          "output_type": "stream",
          "text": [
            "/tmp/ipython-input-3271669777.py:166: FutureWarning: `torch.cuda.amp.autocast(args...)` is deprecated. Please use `torch.amp.autocast('cuda', args...)` instead.\n",
            "  with autocast():\n"
          ]
        },
        {
          "name": "stdout",
          "output_type": "stream",
          "text": [
            "\n",
            "Epoch 5 Summary:\n",
            "Train Loss=0.2250, Train Acc=0.9322\n",
            "Val F1=0.8888, Val Acc=0.9041\n",
            "\u2705 New best model saved!\n"
          ]
        },
        {
          "data": {
            "application/vnd.jupyter.widget-view+json": {
              "model_id": "424daa6b53c94427893ff7616256a37d",
              "version_major": 2,
              "version_minor": 0
            },
            "text/plain": [
              "Epoch 6:   0%|          | 0/78 [00:00<?, ?it/s]"
            ]
          },
          "metadata": {},
          "output_type": "display_data"
        },
        {
          "name": "stderr",
          "output_type": "stream",
          "text": [
            "/tmp/ipython-input-3271669777.py:166: FutureWarning: `torch.cuda.amp.autocast(args...)` is deprecated. Please use `torch.amp.autocast('cuda', args...)` instead.\n",
            "  with autocast():\n"
          ]
        },
        {
          "name": "stdout",
          "output_type": "stream",
          "text": [
            "\n",
            "Epoch 6 Summary:\n",
            "Train Loss=0.1619, Train Acc=0.9532\n",
            "Val F1=0.8971, Val Acc=0.9087\n",
            "\u2705 New best model saved!\n"
          ]
        },
        {
          "data": {
            "application/vnd.jupyter.widget-view+json": {
              "model_id": "735b837e3bc24869aa504d0cf9fbbaf7",
              "version_major": 2,
              "version_minor": 0
            },
            "text/plain": [
              "Epoch 7:   0%|          | 0/78 [00:00<?, ?it/s]"
            ]
          },
          "metadata": {},
          "output_type": "display_data"
        },
        {
          "name": "stderr",
          "output_type": "stream",
          "text": [
            "/tmp/ipython-input-3271669777.py:166: FutureWarning: `torch.cuda.amp.autocast(args...)` is deprecated. Please use `torch.amp.autocast('cuda', args...)` instead.\n",
            "  with autocast():\n"
          ]
        },
        {
          "name": "stdout",
          "output_type": "stream",
          "text": [
            "\n",
            "Epoch 7 Summary:\n",
            "Train Loss=0.1303, Train Acc=0.9645\n",
            "Val F1=0.8964, Val Acc=0.9087\n",
            "No improvement (1/3)\n"
          ]
        },
        {
          "data": {
            "application/vnd.jupyter.widget-view+json": {
              "model_id": "0bc0ad28122142968359adc9be9d7d85",
              "version_major": 2,
              "version_minor": 0
            },
            "text/plain": [
              "Epoch 8:   0%|          | 0/78 [00:00<?, ?it/s]"
            ]
          },
          "metadata": {},
          "output_type": "display_data"
        },
        {
          "name": "stderr",
          "output_type": "stream",
          "text": [
            "/tmp/ipython-input-3271669777.py:166: FutureWarning: `torch.cuda.amp.autocast(args...)` is deprecated. Please use `torch.amp.autocast('cuda', args...)` instead.\n",
            "  with autocast():\n"
          ]
        },
        {
          "name": "stdout",
          "output_type": "stream",
          "text": [
            "\n",
            "Epoch 8 Summary:\n",
            "Train Loss=0.0924, Train Acc=0.9750\n",
            "Val F1=0.8956, Val Acc=0.9087\n",
            "No improvement (2/3)\n"
          ]
        },
        {
          "data": {
            "application/vnd.jupyter.widget-view+json": {
              "model_id": "f6322c2daf8d440194c06c314e3eaa29",
              "version_major": 2,
              "version_minor": 0
            },
            "text/plain": [
              "Epoch 9:   0%|          | 0/78 [00:00<?, ?it/s]"
            ]
          },
          "metadata": {},
          "output_type": "display_data"
        },
        {
          "name": "stderr",
          "output_type": "stream",
          "text": [
            "/tmp/ipython-input-3271669777.py:166: FutureWarning: `torch.cuda.amp.autocast(args...)` is deprecated. Please use `torch.amp.autocast('cuda', args...)` instead.\n",
            "  with autocast():\n"
          ]
        },
        {
          "name": "stdout",
          "output_type": "stream",
          "text": [
            "\n",
            "Epoch 9 Summary:\n",
            "Train Loss=0.0734, Train Acc=0.9806\n",
            "Val F1=0.8859, Val Acc=0.8995\n",
            "No improvement (3/3)\n",
            "Early stopping!\n",
            "\n",
            "\ud83d\udd25 Final Evaluation on Validation Set\n",
            "\n",
            "Classification Report:\n",
            "              precision    recall  f1-score   support\n",
            "\n",
            "       happy       0.95      0.96      0.96       170\n",
            "not-relevant       0.76      0.76      0.76        29\n",
            "       angry       0.82      1.00      0.90         9\n",
            "     disgust       0.00      0.00      0.00         1\n",
            "         sad       0.00      0.00      0.00         5\n",
            "    surprise       0.62      1.00      0.77         5\n",
            "\n",
            "    accuracy                           0.91       219\n",
            "   macro avg       0.53      0.62      0.56       219\n",
            "weighted avg       0.89      0.91      0.90       219\n",
            "\n",
            "\n",
            "Confusion Matrix:\n",
            "[[163   5   0   0   0   2]\n",
            " [  5  22   1   0   0   1]\n",
            " [  0   0   9   0   0   0]\n",
            " [  0   1   0   0   0   0]\n",
            " [  3   1   1   0   0   0]\n",
            " [  0   0   0   0   0   5]]\n",
            "\n",
            "Per-Class Accuracy:\n",
            "Label: happy                | Accuracy: 95.88% (170 samples)\n",
            "Label: not-relevant         | Accuracy: 75.86% (29 samples)\n",
            "Label: angry                | Accuracy: 100.00% (9 samples)\n",
            "Label: disgust              | Accuracy: 0.00% (1 samples)\n",
            "Label: sad                  | Accuracy: 0.00% (5 samples)\n",
            "Label: surprise             | Accuracy: 100.00% (5 samples)\n"
          ]
        },
        {
          "name": "stderr",
          "output_type": "stream",
          "text": [
            "/usr/local/lib/python3.12/dist-packages/sklearn/metrics/_classification.py:1565: UndefinedMetricWarning: Precision is ill-defined and being set to 0.0 in labels with no predicted samples. Use `zero_division` parameter to control this behavior.\n",
            "  _warn_prf(average, modifier, f\"{metric.capitalize()} is\", len(result))\n",
            "/usr/local/lib/python3.12/dist-packages/sklearn/metrics/_classification.py:1565: UndefinedMetricWarning: Precision is ill-defined and being set to 0.0 in labels with no predicted samples. Use `zero_division` parameter to control this behavior.\n",
            "  _warn_prf(average, modifier, f\"{metric.capitalize()} is\", len(result))\n",
            "/usr/local/lib/python3.12/dist-packages/sklearn/metrics/_classification.py:1565: UndefinedMetricWarning: Precision is ill-defined and being set to 0.0 in labels with no predicted samples. Use `zero_division` parameter to control this behavior.\n",
            "  _warn_prf(average, modifier, f\"{metric.capitalize()} is\", len(result))\n"
          ]
        }
      ],
      "source": [
        "# =====================================\n",
        "# \ud83d\ude80 Optimized BERT Fine-Tuning for Sentiment Analysis (with Evaluation)\n",
        "# =====================================\n",
        "import torch\n",
        "import numpy as np\n",
        "import pandas as pd\n",
        "import random, re\n",
        "from sklearn.model_selection import train_test_split\n",
        "from sklearn.metrics import f1_score, classification_report, confusion_matrix\n",
        "from sklearn.utils.class_weight import compute_class_weight\n",
        "from transformers import (\n",
        "    AutoTokenizer, AutoModelForSequenceClassification,\n",
        "    get_linear_schedule_with_warmup, DataCollatorWithPadding\n",
        ")\n",
        "from torch.utils.data import DataLoader, RandomSampler, SequentialSampler, Dataset\n",
        "from torch.optim import AdamW\n",
        "from tqdm.auto import tqdm\n",
        "from torch.cuda.amp import GradScaler, autocast\n",
        "\n",
        "# --------------------\n",
        "# 1\ufe0f\u20e3 Setup & Reproducibility\n",
        "# --------------------\n",
        "seed_val = 42\n",
        "random.seed(seed_val)\n",
        "np.random.seed(seed_val)\n",
        "torch.manual_seed(seed_val)\n",
        "torch.cuda.manual_seed_all(seed_val)\n",
        "device = torch.device(\"cuda\" if torch.cuda.is_available() else \"cpu\")\n",
        "print(\"Using:\", device)\n",
        "\n",
        "# --------------------\n",
        "# 2\ufe0f\u20e3 Data Preparation\n",
        "# --------------------\n",
        "df = pd.read_csv('./smileannotationsfinal.csv', names=['id', 'text', 'category']).set_index('id')\n",
        "\n",
        "# Clean categories\n",
        "df = df[~df.category.str.contains(r'\\|', regex=True)]\n",
        "df = df[df.category != 'nocode']\n",
        "\n",
        "# Label encoding\n",
        "label_dict = {cat: idx for idx, cat in enumerate(df.category.unique())}\n",
        "df['label'] = df.category.replace(label_dict)\n",
        "\n",
        "# Clean text\n",
        "def clean_text(text):\n",
        "    if isinstance(text, str):\n",
        "        text = re.sub(r\"http\\S+|@\\w+|#\\w+\", \"\", text)\n",
        "        return re.sub(r\"\\s+\", \" \", text).strip()\n",
        "    return \"[EMPTY]\"\n",
        "\n",
        "df['text'] = df['text'].apply(clean_text)\n",
        "df = df[df['text'].str.strip() != \"\"]\n",
        "\n",
        "# Train/Val Split\n",
        "X_train, X_val, y_train, y_val = train_test_split(\n",
        "    df.index.values,\n",
        "    df.label.values,\n",
        "    test_size=0.15,\n",
        "    random_state=seed_val,\n",
        "    stratify=df.label.values\n",
        ")\n",
        "\n",
        "df['data_type'] = 'not_set'\n",
        "df.loc[X_train, 'data_type'] = 'train'\n",
        "df.loc[X_val, 'data_type'] = 'val'\n",
        "\n",
        "# --------------------\n",
        "# 3\ufe0f\u20e3 Tokenization (Dynamic Padding)\n",
        "# --------------------\n",
        "tokenizer = AutoTokenizer.from_pretrained('bert-base-uncased')\n",
        "data_collator = DataCollatorWithPadding(tokenizer=tokenizer)\n",
        "\n",
        "def encode_data(texts):\n",
        "    return tokenizer(\n",
        "        texts.tolist(),\n",
        "        truncation=True,\n",
        "        padding=False,     # dynamic padding handled by DataCollator\n",
        "        max_length=192\n",
        "    )\n",
        "\n",
        "train_enc = encode_data(df[df.data_type=='train'].text)\n",
        "val_enc   = encode_data(df[df.data_type=='val'].text)\n",
        "\n",
        "# Custom Dataset for dynamic padding\n",
        "class SentimentDataset(Dataset):\n",
        "    def __init__(self, encodings, labels):\n",
        "        self.encodings = encodings\n",
        "        self.labels = labels\n",
        "\n",
        "    def __getitem__(self, idx):\n",
        "        item = {key: torch.tensor(val[idx]) for key, val in self.encodings.items()}\n",
        "        item['labels'] = torch.tensor(int(self.labels[idx]))\n",
        "        return item\n",
        "\n",
        "    def __len__(self):\n",
        "        return len(self.labels)\n",
        "\n",
        "train_dataset = SentimentDataset(train_enc, df[df.data_type=='train'].label.values)\n",
        "val_dataset   = SentimentDataset(val_enc, df[df.data_type=='val'].label.values)\n",
        "\n",
        "# --------------------\n",
        "# 4\ufe0f\u20e3 Model Setup\n",
        "# --------------------\n",
        "model = AutoModelForSequenceClassification.from_pretrained(\n",
        "    'bert-base-uncased',\n",
        "    num_labels=len(label_dict),\n",
        "    hidden_dropout_prob=0.2,\n",
        "    attention_probs_dropout_prob=0.2\n",
        ").to(device)\n",
        "\n",
        "# Class weights (optional)\n",
        "class_weights = compute_class_weight(\n",
        "    class_weight='balanced',\n",
        "    classes=np.unique(df.label.values),\n",
        "    y=df.label.values\n",
        ")\n",
        "class_weights = torch.tensor(class_weights, dtype=torch.float32).to(device)\n",
        "\n",
        "# --------------------\n",
        "# 5\ufe0f\u20e3 Training Configuration\n",
        "# --------------------\n",
        "epochs = 10\n",
        "batch_size = 16\n",
        "gradient_accumulation_steps = 2\n",
        "lr = 2e-5\n",
        "warmup_ratio = 0.1\n",
        "weight_decay = 0.01\n",
        "\n",
        "train_dataloader = DataLoader(\n",
        "    train_dataset,\n",
        "    sampler=RandomSampler(train_dataset),\n",
        "    batch_size=batch_size,\n",
        "    collate_fn=data_collator\n",
        ")\n",
        "val_dataloader = DataLoader(\n",
        "    val_dataset,\n",
        "    sampler=SequentialSampler(val_dataset),\n",
        "    batch_size=batch_size,\n",
        "    collate_fn=data_collator\n",
        ")\n",
        "\n",
        "optimizer = AdamW(model.parameters(), lr=lr, eps=1e-8, weight_decay=weight_decay)\n",
        "total_steps = len(train_dataloader) * epochs\n",
        "scheduler = get_linear_schedule_with_warmup(\n",
        "    optimizer,\n",
        "    num_warmup_steps=int(total_steps * warmup_ratio),\n",
        "    num_training_steps=total_steps\n",
        ")\n",
        "scaler = GradScaler()\n",
        "\n",
        "# --------------------\n",
        "# 6\ufe0f\u20e3 Training Loop\n",
        "# --------------------\n",
        "best_f1 = 0\n",
        "patience, no_improve = 3, 0\n",
        "\n",
        "for epoch in range(1, epochs+1):\n",
        "    model.train()\n",
        "    total_loss, total_correct, total_samples = 0, 0, 0\n",
        "    progress = tqdm(train_dataloader, desc=f\"Epoch {epoch}\")\n",
        "\n",
        "    for step, batch in enumerate(progress):\n",
        "        batch = {k: v.to(device) for k, v in batch.items()}\n",
        "        optimizer.zero_grad()\n",
        "\n",
        "        with autocast():\n",
        "            outputs = model(**batch)\n",
        "            loss = outputs.loss\n",
        "            logits = outputs.logits\n",
        "\n",
        "        scaler.scale(loss).backward()\n",
        "        scaler.unscale_(optimizer)\n",
        "        torch.nn.utils.clip_grad_norm_(model.parameters(), 1.0)\n",
        "        scaler.step(optimizer)\n",
        "        scaler.update()\n",
        "        scheduler.step()\n",
        "\n",
        "        total_loss += loss.item()\n",
        "        preds = torch.argmax(logits, dim=1)\n",
        "        total_correct += (preds == batch['labels']).sum().item()\n",
        "        total_samples += len(batch['labels'])\n",
        "\n",
        "        progress.set_postfix(loss=f\"{loss.item():.3f}\", acc=f\"{total_correct/total_samples:.3f}\")\n",
        "\n",
        "        if (step + 1) % gradient_accumulation_steps == 0:\n",
        "            optimizer.zero_grad()\n",
        "\n",
        "    avg_train_loss = total_loss / len(train_dataloader)\n",
        "    avg_train_acc = total_correct / total_samples\n",
        "\n",
        "    # --- Validation ---\n",
        "    model.eval()\n",
        "    preds_all, true_all = [], []\n",
        "    with torch.no_grad():\n",
        "        for batch in val_dataloader:\n",
        "            batch = {k: v.to(device) for k, v in batch.items()}\n",
        "            outputs = model(**batch)\n",
        "            preds_all.extend(torch.argmax(outputs.logits, dim=1).cpu().numpy())\n",
        "            true_all.extend(batch['labels'].cpu().numpy())\n",
        "\n",
        "    val_f1 = f1_score(true_all, preds_all, average='weighted')\n",
        "    val_acc = (np.array(preds_all) == np.array(true_all)).mean()\n",
        "\n",
        "    print(f\"\\nEpoch {epoch} Summary:\")\n",
        "    print(f\"Train Loss={avg_train_loss:.4f}, Train Acc={avg_train_acc:.4f}\")\n",
        "    print(f\"Val F1={val_f1:.4f}, Val Acc={val_acc:.4f}\")\n",
        "\n",
        "    if val_f1 > best_f1:\n",
        "        best_f1 = val_f1\n",
        "        no_improve = 0\n",
        "        model.save_pretrained(\"best_bert_sentiment\")\n",
        "        tokenizer.save_pretrained(\"best_bert_sentiment\")\n",
        "        print(\"\u2705 New best model saved!\")\n",
        "    else:\n",
        "        no_improve += 1\n",
        "        print(f\"No improvement ({no_improve}/{patience})\")\n",
        "        if no_improve >= patience:\n",
        "            print(\"Early stopping!\")\n",
        "            break\n",
        "\n",
        "# --------------------\n",
        "# 7\ufe0f\u20e3 Evaluation Helpers\n",
        "# --------------------\n",
        "def evaluate_simple(dataloader):\n",
        "    \"\"\"Runs model evaluation and returns predictions + true labels\"\"\"\n",
        "    model.eval()\n",
        "    preds_all, true_all = [], []\n",
        "    with torch.no_grad():\n",
        "        for batch in dataloader:\n",
        "            batch = {k: v.to(device) for k, v in batch.items()}\n",
        "            outputs = model(**batch)\n",
        "            preds_all.extend(torch.argmax(outputs.logits, dim=1).cpu().numpy())\n",
        "            true_all.extend(batch['labels'].cpu().numpy())\n",
        "    return np.array(preds_all), np.array(true_all)\n",
        "\n",
        "\n",
        "def accuracy_per_class(preds, true, label_dict=label_dict):\n",
        "    \"\"\"Prints accuracy per class with readable labels\"\"\"\n",
        "    for label, idx in label_dict.items():\n",
        "        idxs = np.where(true == idx)\n",
        "        acc = (preds[idxs] == true[idxs]).mean() * 100\n",
        "        print(f\"Label: {label:<20} | Accuracy: {acc:.2f}% ({len(idxs[0])} samples)\")\n",
        "\n",
        "\n",
        "# --------------------\n",
        "# 8\ufe0f\u20e3 Final Evaluation\n",
        "# --------------------\n",
        "print(\"\\n\ud83d\udd25 Final Evaluation on Validation Set\")\n",
        "model = AutoModelForSequenceClassification.from_pretrained(\"best_bert_sentiment\").to(device)\n",
        "predictions, true_vals = evaluate_simple(val_dataloader)\n",
        "\n",
        "print(\"\\nClassification Report:\")\n",
        "print(classification_report(true_vals, predictions, target_names=label_dict.keys()))\n",
        "\n",
        "print(\"\\nConfusion Matrix:\")\n",
        "print(confusion_matrix(true_vals, predictions))\n",
        "\n",
        "print(\"\\nPer-Class Accuracy:\")\n",
        "accuracy_per_class(predictions, true_vals)\n"
      ]
    },
    {
      "cell_type": "code",
      "execution_count": null,
      "id": "_W9tz1bAwF-7",
      "metadata": {
        "id": "_W9tz1bAwF-7"
      },
      "outputs": [],
      "source": []
    }
  ],
  "metadata": {
    "accelerator": "GPU",
    "colab": {
      "gpuType": "T4",
      "provenance": []
    },
    "kernelspec": {
      "display_name": "Python 3",
      "name": "python3"
    },
    "language_info": {
      "codemirror_mode": {
        "name": "ipython",
        "version": 3
      },
      "file_extension": ".py",
      "mimetype": "text/x-python",
      "name": "python",
      "nbconvert_exporter": "python",
      "pygments_lexer": "ipython3",
      "version": "3.13.1"
    }
  },
  "nbformat": 4,
  "nbformat_minor": 5
}